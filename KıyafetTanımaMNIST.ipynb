{
  "nbformat": 4,
  "nbformat_minor": 0,
  "metadata": {
    "kernelspec": {
      "name": "python395jvsc74a57bd0d5561d74a39a199ad3ba45735e939ca60d43703d3b43dc00c6e07e8b375bf3e2",
      "display_name": "Python 3.9.5 64-bit ('.venv')"
    },
    "language_info": {
      "codemirror_mode": {
        "name": "ipython",
        "version": 3
      },
      "file_extension": ".py",
      "mimetype": "text/x-python",
      "name": "python",
      "nbconvert_exporter": "python",
      "pygments_lexer": "ipython3",
      "version": "3.9.5"
    },
    "metadata": {
      "interpreter": {
        "hash": "d5561d74a39a199ad3ba45735e939ca60d43703d3b43dc00c6e07e8b375bf3e2"
      }
    },
    "colab": {
      "name": "KıyafetTanımaMNIST.ipynb",
      "provenance": [],
      "collapsed_sections": []
    }
  },
  "cells": [
    {
      "cell_type": "code",
      "metadata": {
        "id": "NVjYnqrpJoPU"
      },
      "source": [
        "import numpy as np\n",
        "import pandas as pd\n",
        "import matplotlib.pyplot as plt\n",
        "%matplotlib inline\n",
        "\n",
        "import keras\n",
        "from keras.models import Sequential\n",
        "from keras.layers import Dense, Activation, Dropout,Convolution2D,Flatten,MaxPool2D\n",
        "from keras.utils import np_utils"
      ],
      "execution_count": null,
      "outputs": []
    },
    {
      "cell_type": "code",
      "metadata": {
        "id": "oBj69tS0JoPW",
        "outputId": "9dc80d91-3841-4d23-94a0-b3d7bca2990c"
      },
      "source": [
        "ds = pd.read_csv(\"./dataset/train/fashion-mnist_train.csv\")\n",
        "print(ds.shape)"
      ],
      "execution_count": null,
      "outputs": [
        {
          "output_type": "stream",
          "text": [
            "(60000, 785)\n"
          ],
          "name": "stdout"
        }
      ]
    },
    {
      "cell_type": "code",
      "metadata": {
        "id": "P3-gpXGHJoPX",
        "outputId": "69d556c0-14d8-4edf-b120-b877c7f85965"
      },
      "source": [
        "ds.head(5)"
      ],
      "execution_count": null,
      "outputs": [
        {
          "output_type": "execute_result",
          "data": {
            "text/plain": [
              "   label  pixel1  pixel2  pixel3  pixel4  pixel5  pixel6  pixel7  pixel8  \\\n",
              "0      2       0       0       0       0       0       0       0       0   \n",
              "1      9       0       0       0       0       0       0       0       0   \n",
              "2      6       0       0       0       0       0       0       0       5   \n",
              "3      0       0       0       0       1       2       0       0       0   \n",
              "4      3       0       0       0       0       0       0       0       0   \n",
              "\n",
              "   pixel9  ...  pixel775  pixel776  pixel777  pixel778  pixel779  pixel780  \\\n",
              "0       0  ...         0         0         0         0         0         0   \n",
              "1       0  ...         0         0         0         0         0         0   \n",
              "2       0  ...         0         0         0        30        43         0   \n",
              "3       0  ...         3         0         0         0         0         1   \n",
              "4       0  ...         0         0         0         0         0         0   \n",
              "\n",
              "   pixel781  pixel782  pixel783  pixel784  \n",
              "0         0         0         0         0  \n",
              "1         0         0         0         0  \n",
              "2         0         0         0         0  \n",
              "3         0         0         0         0  \n",
              "4         0         0         0         0  \n",
              "\n",
              "[5 rows x 785 columns]"
            ],
            "text/html": [
              "<div>\n",
              "<style scoped>\n",
              "    .dataframe tbody tr th:only-of-type {\n",
              "        vertical-align: middle;\n",
              "    }\n",
              "\n",
              "    .dataframe tbody tr th {\n",
              "        vertical-align: top;\n",
              "    }\n",
              "\n",
              "    .dataframe thead th {\n",
              "        text-align: right;\n",
              "    }\n",
              "</style>\n",
              "<table border=\"1\" class=\"dataframe\">\n",
              "  <thead>\n",
              "    <tr style=\"text-align: right;\">\n",
              "      <th></th>\n",
              "      <th>label</th>\n",
              "      <th>pixel1</th>\n",
              "      <th>pixel2</th>\n",
              "      <th>pixel3</th>\n",
              "      <th>pixel4</th>\n",
              "      <th>pixel5</th>\n",
              "      <th>pixel6</th>\n",
              "      <th>pixel7</th>\n",
              "      <th>pixel8</th>\n",
              "      <th>pixel9</th>\n",
              "      <th>...</th>\n",
              "      <th>pixel775</th>\n",
              "      <th>pixel776</th>\n",
              "      <th>pixel777</th>\n",
              "      <th>pixel778</th>\n",
              "      <th>pixel779</th>\n",
              "      <th>pixel780</th>\n",
              "      <th>pixel781</th>\n",
              "      <th>pixel782</th>\n",
              "      <th>pixel783</th>\n",
              "      <th>pixel784</th>\n",
              "    </tr>\n",
              "  </thead>\n",
              "  <tbody>\n",
              "    <tr>\n",
              "      <th>0</th>\n",
              "      <td>2</td>\n",
              "      <td>0</td>\n",
              "      <td>0</td>\n",
              "      <td>0</td>\n",
              "      <td>0</td>\n",
              "      <td>0</td>\n",
              "      <td>0</td>\n",
              "      <td>0</td>\n",
              "      <td>0</td>\n",
              "      <td>0</td>\n",
              "      <td>...</td>\n",
              "      <td>0</td>\n",
              "      <td>0</td>\n",
              "      <td>0</td>\n",
              "      <td>0</td>\n",
              "      <td>0</td>\n",
              "      <td>0</td>\n",
              "      <td>0</td>\n",
              "      <td>0</td>\n",
              "      <td>0</td>\n",
              "      <td>0</td>\n",
              "    </tr>\n",
              "    <tr>\n",
              "      <th>1</th>\n",
              "      <td>9</td>\n",
              "      <td>0</td>\n",
              "      <td>0</td>\n",
              "      <td>0</td>\n",
              "      <td>0</td>\n",
              "      <td>0</td>\n",
              "      <td>0</td>\n",
              "      <td>0</td>\n",
              "      <td>0</td>\n",
              "      <td>0</td>\n",
              "      <td>...</td>\n",
              "      <td>0</td>\n",
              "      <td>0</td>\n",
              "      <td>0</td>\n",
              "      <td>0</td>\n",
              "      <td>0</td>\n",
              "      <td>0</td>\n",
              "      <td>0</td>\n",
              "      <td>0</td>\n",
              "      <td>0</td>\n",
              "      <td>0</td>\n",
              "    </tr>\n",
              "    <tr>\n",
              "      <th>2</th>\n",
              "      <td>6</td>\n",
              "      <td>0</td>\n",
              "      <td>0</td>\n",
              "      <td>0</td>\n",
              "      <td>0</td>\n",
              "      <td>0</td>\n",
              "      <td>0</td>\n",
              "      <td>0</td>\n",
              "      <td>5</td>\n",
              "      <td>0</td>\n",
              "      <td>...</td>\n",
              "      <td>0</td>\n",
              "      <td>0</td>\n",
              "      <td>0</td>\n",
              "      <td>30</td>\n",
              "      <td>43</td>\n",
              "      <td>0</td>\n",
              "      <td>0</td>\n",
              "      <td>0</td>\n",
              "      <td>0</td>\n",
              "      <td>0</td>\n",
              "    </tr>\n",
              "    <tr>\n",
              "      <th>3</th>\n",
              "      <td>0</td>\n",
              "      <td>0</td>\n",
              "      <td>0</td>\n",
              "      <td>0</td>\n",
              "      <td>1</td>\n",
              "      <td>2</td>\n",
              "      <td>0</td>\n",
              "      <td>0</td>\n",
              "      <td>0</td>\n",
              "      <td>0</td>\n",
              "      <td>...</td>\n",
              "      <td>3</td>\n",
              "      <td>0</td>\n",
              "      <td>0</td>\n",
              "      <td>0</td>\n",
              "      <td>0</td>\n",
              "      <td>1</td>\n",
              "      <td>0</td>\n",
              "      <td>0</td>\n",
              "      <td>0</td>\n",
              "      <td>0</td>\n",
              "    </tr>\n",
              "    <tr>\n",
              "      <th>4</th>\n",
              "      <td>3</td>\n",
              "      <td>0</td>\n",
              "      <td>0</td>\n",
              "      <td>0</td>\n",
              "      <td>0</td>\n",
              "      <td>0</td>\n",
              "      <td>0</td>\n",
              "      <td>0</td>\n",
              "      <td>0</td>\n",
              "      <td>0</td>\n",
              "      <td>...</td>\n",
              "      <td>0</td>\n",
              "      <td>0</td>\n",
              "      <td>0</td>\n",
              "      <td>0</td>\n",
              "      <td>0</td>\n",
              "      <td>0</td>\n",
              "      <td>0</td>\n",
              "      <td>0</td>\n",
              "      <td>0</td>\n",
              "      <td>0</td>\n",
              "    </tr>\n",
              "  </tbody>\n",
              "</table>\n",
              "<p>5 rows × 785 columns</p>\n",
              "</div>"
            ]
          },
          "metadata": {
            "tags": []
          },
          "execution_count": 59
        }
      ]
    },
    {
      "cell_type": "code",
      "metadata": {
        "id": "Gy04lmrfJoPX"
      },
      "source": [
        "class_names = ['T-shirt/top', 'Trouser', 'Pullover', 'Dress', 'Coat',\n",
        "               'Sandal', 'Shirt', 'Sneaker', 'Bag', 'Ankle boot']"
      ],
      "execution_count": null,
      "outputs": []
    },
    {
      "cell_type": "code",
      "metadata": {
        "id": "e9ysNv3CJoPY",
        "outputId": "0f4c72b9-d997-401c-a874-e8ee1518fd58"
      },
      "source": [
        "X = ds.values[:,1:]/255.0  #rgb\n",
        "y = np_utils.to_categorical(ds.values[:,0]) #a class vector to binary class matrix\n",
        "\n",
        "print(X.shape,y.shape)"
      ],
      "execution_count": null,
      "outputs": [
        {
          "output_type": "stream",
          "text": [
            "(60000, 784) (60000, 10)\n"
          ],
          "name": "stdout"
        }
      ]
    },
    {
      "cell_type": "code",
      "metadata": {
        "id": "5DObvyGJJoPY",
        "outputId": "4aa0eb7d-e6ce-4c67-f769-ef792db83513"
      },
      "source": [
        "split = int(0.8*X.shape[0]) # %80 train, %20 test\n",
        "\n",
        "X_train = X[:split].reshape((-1,28,28,1)) #train setinin Convolution2D girişine uygun olarak reshape edilmesi\n",
        "y_train = y[:split]\n",
        "\n",
        "X_test = X[split:].reshape((-1,28,28,1)) #test setinin Convolution2D girişine uygun olarak reshape edilmesi\n",
        "y_test = y[split:]\n",
        "\n",
        "\n",
        "print(X_train.shape,y_test.shape)"
      ],
      "execution_count": null,
      "outputs": [
        {
          "output_type": "stream",
          "text": [
            "(48000, 28, 28, 1) (12000, 10)\n"
          ],
          "name": "stdout"
        }
      ]
    },
    {
      "cell_type": "code",
      "metadata": {
        "id": "KtJDLH2qJoPZ",
        "outputId": "9a6eb1bd-d223-4410-9159-b009a8e68013"
      },
      "source": [
        "smodel = Sequential()\n",
        "model.add(Convolution2D(32,(3,3),input_shape = (28,28,1)))\n",
        "model.add(Activation('relu'))\n",
        "\n",
        "model.add(Convolution2D(32,(3,3)))\n",
        "model.add(Activation('relu'))\n",
        "model.add(MaxPool2D(pool_size=(2,2)))\n",
        "\n",
        "model.add(Convolution2D(64,(3,3)))\n",
        "model.add(Activation('relu'))\n",
        "model.add(MaxPool2D(pool_size=(2,2)))\n",
        "\n",
        "model.add(Flatten())\n",
        "\n",
        "model.add(Dropout(0.4))\n",
        "model.add(Dense(1024))\n",
        "model.add(Activation(\"relu\"))\n",
        "model.add(Dense(10))\n",
        "model.add(Activation('softmax'))\n",
        "\n",
        "model.summary()\n",
        "model.compile(loss='categorical_crossentropy',optimizer = 'adam',metrics = ['accuracy'])"
      ],
      "execution_count": null,
      "outputs": [
        {
          "output_type": "stream",
          "text": [
            "Model: \"sequential_1\"\n",
            "_________________________________________________________________\n",
            "Layer (type)                 Output Shape              Param #   \n",
            "=================================================================\n",
            "conv2d_3 (Conv2D)            (None, 26, 26, 32)        320       \n",
            "_________________________________________________________________\n",
            "activation_5 (Activation)    (None, 26, 26, 32)        0         \n",
            "_________________________________________________________________\n",
            "conv2d_4 (Conv2D)            (None, 24, 24, 32)        9248      \n",
            "_________________________________________________________________\n",
            "activation_6 (Activation)    (None, 24, 24, 32)        0         \n",
            "_________________________________________________________________\n",
            "max_pooling2d_2 (MaxPooling2 (None, 12, 12, 32)        0         \n",
            "_________________________________________________________________\n",
            "conv2d_5 (Conv2D)            (None, 10, 10, 64)        18496     \n",
            "_________________________________________________________________\n",
            "activation_7 (Activation)    (None, 10, 10, 64)        0         \n",
            "_________________________________________________________________\n",
            "max_pooling2d_3 (MaxPooling2 (None, 5, 5, 64)          0         \n",
            "_________________________________________________________________\n",
            "flatten_1 (Flatten)          (None, 1600)              0         \n",
            "_________________________________________________________________\n",
            "dropout_1 (Dropout)          (None, 1600)              0         \n",
            "_________________________________________________________________\n",
            "dense_2 (Dense)              (None, 1024)              1639424   \n",
            "_________________________________________________________________\n",
            "activation_8 (Activation)    (None, 1024)              0         \n",
            "_________________________________________________________________\n",
            "dense_3 (Dense)              (None, 10)                10250     \n",
            "_________________________________________________________________\n",
            "activation_9 (Activation)    (None, 10)                0         \n",
            "=================================================================\n",
            "Total params: 1,677,738\n",
            "Trainable params: 1,677,738\n",
            "Non-trainable params: 0\n",
            "_________________________________________________________________\n"
          ],
          "name": "stdout"
        }
      ]
    },
    {
      "cell_type": "code",
      "metadata": {
        "id": "YCWpz3NcJoPZ",
        "outputId": "bf14fbc4-b33a-4e82-e808-00996e6ebcf1"
      },
      "source": [
        "hist = model.fit(X_train,y_train,\n",
        "                epochs=100,\n",
        "                shuffle=True,\n",
        "                batch_size=400,\n",
        "                validation_data=(X_test,y_test))"
      ],
      "execution_count": null,
      "outputs": [
        {
          "output_type": "stream",
          "text": [
            "Epoch 1/100\n",
            "120/120 [==============================] - 99s 730ms/step - loss: 0.9820 - accuracy: 0.6598 - val_loss: 0.4068 - val_accuracy: 0.8598\n",
            "Epoch 2/100\n",
            "120/120 [==============================] - 75s 624ms/step - loss: 0.4263 - accuracy: 0.8441 - val_loss: 0.3439 - val_accuracy: 0.8775\n",
            "Epoch 3/100\n",
            "120/120 [==============================] - 67s 561ms/step - loss: 0.3506 - accuracy: 0.8744 - val_loss: 0.3007 - val_accuracy: 0.8935\n",
            "Epoch 4/100\n",
            "120/120 [==============================] - 69s 577ms/step - loss: 0.3092 - accuracy: 0.8865 - val_loss: 0.2825 - val_accuracy: 0.8992\n",
            "Epoch 5/100\n",
            "120/120 [==============================] - 69s 579ms/step - loss: 0.2751 - accuracy: 0.8992 - val_loss: 0.2603 - val_accuracy: 0.9097\n",
            "Epoch 6/100\n",
            "120/120 [==============================] - 68s 569ms/step - loss: 0.2542 - accuracy: 0.9076 - val_loss: 0.2512 - val_accuracy: 0.9091\n",
            "Epoch 7/100\n",
            "120/120 [==============================] - 71s 589ms/step - loss: 0.2360 - accuracy: 0.9135 - val_loss: 0.2501 - val_accuracy: 0.9101\n",
            "Epoch 8/100\n",
            "120/120 [==============================] - 69s 577ms/step - loss: 0.2309 - accuracy: 0.9134 - val_loss: 0.2391 - val_accuracy: 0.9145\n",
            "Epoch 9/100\n",
            "120/120 [==============================] - 69s 572ms/step - loss: 0.2117 - accuracy: 0.9213 - val_loss: 0.2240 - val_accuracy: 0.9200\n",
            "Epoch 10/100\n",
            "120/120 [==============================] - 72s 597ms/step - loss: 0.1956 - accuracy: 0.9259 - val_loss: 0.2220 - val_accuracy: 0.9209\n",
            "Epoch 11/100\n",
            "120/120 [==============================] - 67s 562ms/step - loss: 0.1866 - accuracy: 0.9309 - val_loss: 0.2219 - val_accuracy: 0.9220\n",
            "Epoch 12/100\n",
            "120/120 [==============================] - 69s 572ms/step - loss: 0.1775 - accuracy: 0.9329 - val_loss: 0.2153 - val_accuracy: 0.9237\n",
            "Epoch 13/100\n",
            "120/120 [==============================] - 68s 564ms/step - loss: 0.1634 - accuracy: 0.9387 - val_loss: 0.2147 - val_accuracy: 0.9270\n",
            "Epoch 14/100\n",
            "120/120 [==============================] - 67s 558ms/step - loss: 0.1525 - accuracy: 0.9424 - val_loss: 0.2191 - val_accuracy: 0.9229\n",
            "Epoch 15/100\n",
            "120/120 [==============================] - 68s 570ms/step - loss: 0.1434 - accuracy: 0.9466 - val_loss: 0.2246 - val_accuracy: 0.9231\n",
            "Epoch 16/100\n",
            "120/120 [==============================] - 73s 605ms/step - loss: 0.1352 - accuracy: 0.9489 - val_loss: 0.2136 - val_accuracy: 0.9268\n",
            "Epoch 17/100\n",
            "120/120 [==============================] - 74s 621ms/step - loss: 0.1266 - accuracy: 0.9523 - val_loss: 0.2213 - val_accuracy: 0.9240\n",
            "Epoch 18/100\n",
            "120/120 [==============================] - 72s 605ms/step - loss: 0.1202 - accuracy: 0.9543 - val_loss: 0.2137 - val_accuracy: 0.9268\n",
            "Epoch 19/100\n",
            "120/120 [==============================] - 85s 709ms/step - loss: 0.1138 - accuracy: 0.9577 - val_loss: 0.2136 - val_accuracy: 0.9280\n",
            "Epoch 20/100\n",
            "120/120 [==============================] - 91s 758ms/step - loss: 0.1057 - accuracy: 0.9614 - val_loss: 0.2174 - val_accuracy: 0.9294\n",
            "Epoch 21/100\n",
            "120/120 [==============================] - 89s 743ms/step - loss: 0.0961 - accuracy: 0.9622 - val_loss: 0.2192 - val_accuracy: 0.9298\n",
            "Epoch 22/100\n",
            "120/120 [==============================] - 75s 628ms/step - loss: 0.0931 - accuracy: 0.9653 - val_loss: 0.2404 - val_accuracy: 0.9262\n",
            "Epoch 23/100\n",
            "120/120 [==============================] - 76s 633ms/step - loss: 0.0876 - accuracy: 0.9689 - val_loss: 0.2300 - val_accuracy: 0.9286\n",
            "Epoch 24/100\n",
            "120/120 [==============================] - 76s 632ms/step - loss: 0.0844 - accuracy: 0.9687 - val_loss: 0.2303 - val_accuracy: 0.9297\n",
            "Epoch 25/100\n",
            "120/120 [==============================] - 79s 658ms/step - loss: 0.0726 - accuracy: 0.9740 - val_loss: 0.2386 - val_accuracy: 0.9271\n",
            "Epoch 26/100\n",
            "120/120 [==============================] - 71s 595ms/step - loss: 0.0731 - accuracy: 0.9734 - val_loss: 0.2416 - val_accuracy: 0.9290\n",
            "Epoch 27/100\n",
            "120/120 [==============================] - 71s 593ms/step - loss: 0.0668 - accuracy: 0.9745 - val_loss: 0.2399 - val_accuracy: 0.9304\n",
            "Epoch 28/100\n",
            "120/120 [==============================] - 71s 589ms/step - loss: 0.0622 - accuracy: 0.9775 - val_loss: 0.2490 - val_accuracy: 0.9265\n",
            "Epoch 29/100\n",
            "120/120 [==============================] - 72s 598ms/step - loss: 0.0635 - accuracy: 0.9770 - val_loss: 0.2464 - val_accuracy: 0.9266\n",
            "Epoch 30/100\n",
            "120/120 [==============================] - 78s 651ms/step - loss: 0.0512 - accuracy: 0.9816 - val_loss: 0.2615 - val_accuracy: 0.9275\n",
            "Epoch 31/100\n",
            "120/120 [==============================] - 79s 654ms/step - loss: 0.0538 - accuracy: 0.9807 - val_loss: 0.2520 - val_accuracy: 0.9283\n",
            "Epoch 32/100\n",
            "120/120 [==============================] - 76s 635ms/step - loss: 0.0513 - accuracy: 0.9823 - val_loss: 0.2628 - val_accuracy: 0.9284\n",
            "Epoch 33/100\n",
            "120/120 [==============================] - 66s 548ms/step - loss: 0.0458 - accuracy: 0.9833 - val_loss: 0.2699 - val_accuracy: 0.9268\n",
            "Epoch 34/100\n",
            "120/120 [==============================] - 66s 547ms/step - loss: 0.0469 - accuracy: 0.9829 - val_loss: 0.2665 - val_accuracy: 0.9289\n",
            "Epoch 35/100\n",
            "120/120 [==============================] - 66s 550ms/step - loss: 0.0481 - accuracy: 0.9824 - val_loss: 0.2741 - val_accuracy: 0.9305\n",
            "Epoch 36/100\n",
            "120/120 [==============================] - 66s 552ms/step - loss: 0.0403 - accuracy: 0.9863 - val_loss: 0.2832 - val_accuracy: 0.9262\n",
            "Epoch 37/100\n",
            "120/120 [==============================] - 66s 553ms/step - loss: 0.0433 - accuracy: 0.9830 - val_loss: 0.2814 - val_accuracy: 0.9294\n",
            "Epoch 38/100\n",
            "120/120 [==============================] - 67s 555ms/step - loss: 0.0346 - accuracy: 0.9875 - val_loss: 0.3081 - val_accuracy: 0.9228\n",
            "Epoch 39/100\n",
            "120/120 [==============================] - 66s 549ms/step - loss: 0.0396 - accuracy: 0.9856 - val_loss: 0.2757 - val_accuracy: 0.9306\n",
            "Epoch 40/100\n",
            "120/120 [==============================] - 66s 552ms/step - loss: 0.0335 - accuracy: 0.9881 - val_loss: 0.2880 - val_accuracy: 0.9283\n",
            "Epoch 41/100\n",
            "120/120 [==============================] - 72s 603ms/step - loss: 0.0329 - accuracy: 0.9886 - val_loss: 0.2934 - val_accuracy: 0.9287\n",
            "Epoch 42/100\n",
            "120/120 [==============================] - 97s 807ms/step - loss: 0.0359 - accuracy: 0.9870 - val_loss: 0.3113 - val_accuracy: 0.9283\n",
            "Epoch 43/100\n",
            "120/120 [==============================] - 81s 668ms/step - loss: 0.0296 - accuracy: 0.9897 - val_loss: 0.3057 - val_accuracy: 0.9274\n",
            "Epoch 44/100\n",
            "120/120 [==============================] - 91s 757ms/step - loss: 0.0278 - accuracy: 0.9894 - val_loss: 0.3190 - val_accuracy: 0.9272\n",
            "Epoch 45/100\n",
            "120/120 [==============================] - 75s 627ms/step - loss: 0.0323 - accuracy: 0.9877 - val_loss: 0.3209 - val_accuracy: 0.9249\n",
            "Epoch 46/100\n",
            "120/120 [==============================] - 66s 554ms/step - loss: 0.0275 - accuracy: 0.9901 - val_loss: 0.3236 - val_accuracy: 0.9272\n",
            "Epoch 47/100\n",
            "120/120 [==============================] - 66s 551ms/step - loss: 0.0270 - accuracy: 0.9905 - val_loss: 0.3273 - val_accuracy: 0.9258\n",
            "Epoch 48/100\n",
            "120/120 [==============================] - 66s 553ms/step - loss: 0.0255 - accuracy: 0.9912 - val_loss: 0.3109 - val_accuracy: 0.9277\n",
            "Epoch 49/100\n",
            "120/120 [==============================] - 67s 562ms/step - loss: 0.0277 - accuracy: 0.9904 - val_loss: 0.3114 - val_accuracy: 0.9273\n",
            "Epoch 50/100\n",
            "120/120 [==============================] - 67s 554ms/step - loss: 0.0249 - accuracy: 0.9912 - val_loss: 0.3196 - val_accuracy: 0.9290\n",
            "Epoch 51/100\n",
            "120/120 [==============================] - 67s 560ms/step - loss: 0.0251 - accuracy: 0.9919 - val_loss: 0.3327 - val_accuracy: 0.9271\n",
            "Epoch 52/100\n",
            "120/120 [==============================] - 66s 553ms/step - loss: 0.0238 - accuracy: 0.9913 - val_loss: 0.3267 - val_accuracy: 0.9263\n",
            "Epoch 53/100\n",
            "120/120 [==============================] - 66s 553ms/step - loss: 0.0248 - accuracy: 0.9916 - val_loss: 0.3521 - val_accuracy: 0.9243\n",
            "Epoch 54/100\n",
            "120/120 [==============================] - 62s 518ms/step - loss: 0.0219 - accuracy: 0.9917 - val_loss: 0.3544 - val_accuracy: 0.9256\n",
            "Epoch 55/100\n",
            "120/120 [==============================] - 54s 453ms/step - loss: 0.0206 - accuracy: 0.9928 - val_loss: 0.3495 - val_accuracy: 0.9293\n",
            "Epoch 56/100\n",
            "120/120 [==============================] - 67s 557ms/step - loss: 0.0264 - accuracy: 0.9912 - val_loss: 0.3496 - val_accuracy: 0.9258\n",
            "Epoch 57/100\n",
            "120/120 [==============================] - 65s 546ms/step - loss: 0.0219 - accuracy: 0.9925 - val_loss: 0.3483 - val_accuracy: 0.9277\n",
            "Epoch 58/100\n",
            "120/120 [==============================] - 66s 547ms/step - loss: 0.0204 - accuracy: 0.9925 - val_loss: 0.3403 - val_accuracy: 0.9274\n",
            "Epoch 59/100\n",
            "120/120 [==============================] - 66s 552ms/step - loss: 0.0187 - accuracy: 0.9936 - val_loss: 0.3513 - val_accuracy: 0.9255\n",
            "Epoch 60/100\n",
            "120/120 [==============================] - 66s 547ms/step - loss: 0.0193 - accuracy: 0.9932 - val_loss: 0.3610 - val_accuracy: 0.9250\n",
            "Epoch 61/100\n",
            "120/120 [==============================] - 66s 548ms/step - loss: 0.0174 - accuracy: 0.9935 - val_loss: 0.3729 - val_accuracy: 0.9282\n",
            "Epoch 62/100\n",
            "120/120 [==============================] - 65s 546ms/step - loss: 0.0197 - accuracy: 0.9931 - val_loss: 0.3647 - val_accuracy: 0.9262\n",
            "Epoch 63/100\n",
            "120/120 [==============================] - 65s 545ms/step - loss: 0.0194 - accuracy: 0.9934 - val_loss: 0.3629 - val_accuracy: 0.9268\n",
            "Epoch 64/100\n",
            "120/120 [==============================] - 65s 544ms/step - loss: 0.0192 - accuracy: 0.9925 - val_loss: 0.3633 - val_accuracy: 0.9276\n",
            "Epoch 65/100\n",
            "120/120 [==============================] - 66s 552ms/step - loss: 0.0175 - accuracy: 0.9939 - val_loss: 0.3664 - val_accuracy: 0.9284\n",
            "Epoch 66/100\n",
            "120/120 [==============================] - 66s 550ms/step - loss: 0.0198 - accuracy: 0.9927 - val_loss: 0.3694 - val_accuracy: 0.9273\n",
            "Epoch 67/100\n",
            "120/120 [==============================] - 69s 579ms/step - loss: 0.0189 - accuracy: 0.9932 - val_loss: 0.3968 - val_accuracy: 0.9263\n",
            "Epoch 68/100\n",
            "120/120 [==============================] - 54s 448ms/step - loss: 0.0180 - accuracy: 0.9931 - val_loss: 0.3711 - val_accuracy: 0.9287\n",
            "Epoch 69/100\n",
            "120/120 [==============================] - 54s 450ms/step - loss: 0.0185 - accuracy: 0.9935 - val_loss: 0.3708 - val_accuracy: 0.9263\n",
            "Epoch 70/100\n",
            "120/120 [==============================] - 54s 450ms/step - loss: 0.0193 - accuracy: 0.9934 - val_loss: 0.3686 - val_accuracy: 0.9274\n",
            "Epoch 71/100\n",
            "120/120 [==============================] - 54s 450ms/step - loss: 0.0179 - accuracy: 0.9939 - val_loss: 0.3730 - val_accuracy: 0.9285\n",
            "Epoch 72/100\n",
            "120/120 [==============================] - 54s 451ms/step - loss: 0.0164 - accuracy: 0.9940 - val_loss: 0.3677 - val_accuracy: 0.9262\n",
            "Epoch 73/100\n",
            "120/120 [==============================] - 54s 450ms/step - loss: 0.0150 - accuracy: 0.9942 - val_loss: 0.3772 - val_accuracy: 0.9276\n",
            "Epoch 74/100\n",
            "120/120 [==============================] - 54s 449ms/step - loss: 0.0183 - accuracy: 0.9942 - val_loss: 0.3720 - val_accuracy: 0.9275\n",
            "Epoch 75/100\n",
            "120/120 [==============================] - 54s 451ms/step - loss: 0.0156 - accuracy: 0.9949 - val_loss: 0.3772 - val_accuracy: 0.9291\n",
            "Epoch 76/100\n",
            "120/120 [==============================] - 54s 448ms/step - loss: 0.0129 - accuracy: 0.9955 - val_loss: 0.3873 - val_accuracy: 0.9273\n",
            "Epoch 77/100\n",
            "120/120 [==============================] - 54s 449ms/step - loss: 0.0158 - accuracy: 0.9947 - val_loss: 0.3859 - val_accuracy: 0.9262\n",
            "Epoch 78/100\n",
            "120/120 [==============================] - 56s 466ms/step - loss: 0.0169 - accuracy: 0.9942 - val_loss: 0.3975 - val_accuracy: 0.9280\n",
            "Epoch 79/100\n",
            "120/120 [==============================] - 73s 606ms/step - loss: 0.0133 - accuracy: 0.9953 - val_loss: 0.3935 - val_accuracy: 0.9293\n",
            "Epoch 80/100\n",
            "120/120 [==============================] - 55s 462ms/step - loss: 0.0131 - accuracy: 0.9954 - val_loss: 0.3927 - val_accuracy: 0.9277\n",
            "Epoch 81/100\n",
            "120/120 [==============================] - 55s 459ms/step - loss: 0.0151 - accuracy: 0.9947 - val_loss: 0.3914 - val_accuracy: 0.9291\n",
            "Epoch 82/100\n",
            "120/120 [==============================] - 55s 459ms/step - loss: 0.0145 - accuracy: 0.9949 - val_loss: 0.3794 - val_accuracy: 0.9291\n",
            "Epoch 83/100\n",
            "120/120 [==============================] - 56s 463ms/step - loss: 0.0170 - accuracy: 0.9940 - val_loss: 0.3994 - val_accuracy: 0.9289\n",
            "Epoch 84/100\n",
            "120/120 [==============================] - 56s 465ms/step - loss: 0.0161 - accuracy: 0.9946 - val_loss: 0.4054 - val_accuracy: 0.9286\n",
            "Epoch 85/100\n",
            "120/120 [==============================] - 56s 465ms/step - loss: 0.0154 - accuracy: 0.9946 - val_loss: 0.3849 - val_accuracy: 0.9282\n",
            "Epoch 86/100\n",
            "120/120 [==============================] - 55s 459ms/step - loss: 0.0150 - accuracy: 0.9952 - val_loss: 0.3981 - val_accuracy: 0.9262\n",
            "Epoch 87/100\n",
            "120/120 [==============================] - 55s 459ms/step - loss: 0.0133 - accuracy: 0.9950 - val_loss: 0.4016 - val_accuracy: 0.9309\n",
            "Epoch 88/100\n",
            "120/120 [==============================] - 56s 463ms/step - loss: 0.0126 - accuracy: 0.9958 - val_loss: 0.3996 - val_accuracy: 0.9265\n",
            "Epoch 89/100\n",
            "120/120 [==============================] - 61s 505ms/step - loss: 0.0130 - accuracy: 0.9956 - val_loss: 0.4012 - val_accuracy: 0.9259\n",
            "Epoch 90/100\n",
            "120/120 [==============================] - 66s 552ms/step - loss: 0.0182 - accuracy: 0.9938 - val_loss: 0.3912 - val_accuracy: 0.9271\n",
            "Epoch 91/100\n",
            "120/120 [==============================] - 66s 550ms/step - loss: 0.0143 - accuracy: 0.9951 - val_loss: 0.4050 - val_accuracy: 0.9283\n",
            "Epoch 92/100\n",
            "120/120 [==============================] - 66s 550ms/step - loss: 0.0133 - accuracy: 0.9950 - val_loss: 0.4009 - val_accuracy: 0.9270\n",
            "Epoch 93/100\n",
            "120/120 [==============================] - 66s 553ms/step - loss: 0.0118 - accuracy: 0.9959 - val_loss: 0.4239 - val_accuracy: 0.9242\n",
            "Epoch 94/100\n",
            "120/120 [==============================] - 67s 561ms/step - loss: 0.0156 - accuracy: 0.9947 - val_loss: 0.4160 - val_accuracy: 0.9297\n",
            "Epoch 95/100\n",
            "120/120 [==============================] - 67s 558ms/step - loss: 0.0127 - accuracy: 0.9958 - val_loss: 0.4214 - val_accuracy: 0.9283\n",
            "Epoch 96/100\n",
            "120/120 [==============================] - 67s 556ms/step - loss: 0.0138 - accuracy: 0.9948 - val_loss: 0.4024 - val_accuracy: 0.9270\n",
            "Epoch 97/100\n",
            "120/120 [==============================] - 70s 582ms/step - loss: 0.0144 - accuracy: 0.9951 - val_loss: 0.4156 - val_accuracy: 0.9270\n",
            "Epoch 98/100\n",
            "120/120 [==============================] - 67s 557ms/step - loss: 0.0134 - accuracy: 0.9952 - val_loss: 0.4101 - val_accuracy: 0.9280\n",
            "Epoch 99/100\n",
            "120/120 [==============================] - 65s 539ms/step - loss: 0.0153 - accuracy: 0.9947 - val_loss: 0.4180 - val_accuracy: 0.9252\n",
            "Epoch 100/100\n",
            "120/120 [==============================] - 67s 559ms/step - loss: 0.0154 - accuracy: 0.9950 - val_loss: 0.4210 - val_accuracy: 0.9250\n"
          ],
          "name": "stdout"
        }
      ]
    },
    {
      "cell_type": "code",
      "metadata": {
        "id": "bOq_WjD0JoPZ",
        "outputId": "9e4a2340-71ca-4ffb-88cc-7069198e4f8e"
      },
      "source": [
        "history = hist.history\n",
        "\n",
        "plt.figure(0)\n",
        "plt.plot(history['loss'],'g')\n",
        "plt.plot(history['val_loss'],'r')"
      ],
      "execution_count": null,
      "outputs": [
        {
          "output_type": "execute_result",
          "data": {
            "text/plain": [
              "[<matplotlib.lines.Line2D at 0x1ca83508250>]"
            ]
          },
          "metadata": {
            "tags": []
          },
          "execution_count": 27
        },
        {
          "output_type": "display_data",
          "data": {
            "text/plain": [
              "<Figure size 432x288 with 1 Axes>"
            ],
            "image/svg+xml": "<?xml version=\"1.0\" encoding=\"utf-8\" standalone=\"no\"?>\r\n<!DOCTYPE svg PUBLIC \"-//W3C//DTD SVG 1.1//EN\"\r\n  \"http://www.w3.org/Graphics/SVG/1.1/DTD/svg11.dtd\">\r\n<svg height=\"248.518125pt\" version=\"1.1\" viewBox=\"0 0 372.103125 248.518125\" width=\"372.103125pt\" xmlns=\"http://www.w3.org/2000/svg\" xmlns:xlink=\"http://www.w3.org/1999/xlink\">\r\n <metadata>\r\n  <rdf:RDF xmlns:cc=\"http://creativecommons.org/ns#\" xmlns:dc=\"http://purl.org/dc/elements/1.1/\" xmlns:rdf=\"http://www.w3.org/1999/02/22-rdf-syntax-ns#\">\r\n   <cc:Work>\r\n    <dc:type rdf:resource=\"http://purl.org/dc/dcmitype/StillImage\"/>\r\n    <dc:date>2021-05-10T02:58:06.884781</dc:date>\r\n    <dc:format>image/svg+xml</dc:format>\r\n    <dc:creator>\r\n     <cc:Agent>\r\n      <dc:title>Matplotlib v3.4.1, https://matplotlib.org/</dc:title>\r\n     </cc:Agent>\r\n    </dc:creator>\r\n   </cc:Work>\r\n  </rdf:RDF>\r\n </metadata>\r\n <defs>\r\n  <style type=\"text/css\">*{stroke-linecap:butt;stroke-linejoin:round;}</style>\r\n </defs>\r\n <g id=\"figure_1\">\r\n  <g id=\"patch_1\">\r\n   <path d=\"M 0 248.518125 \r\nL 372.103125 248.518125 \r\nL 372.103125 0 \r\nL 0 0 \r\nz\r\n\" style=\"fill:none;\"/>\r\n  </g>\r\n  <g id=\"axes_1\">\r\n   <g id=\"patch_2\">\r\n    <path d=\"M 30.103125 224.64 \r\nL 364.903125 224.64 \r\nL 364.903125 7.2 \r\nL 30.103125 7.2 \r\nz\r\n\" style=\"fill:#ffffff;\"/>\r\n   </g>\r\n   <g id=\"matplotlib.axis_1\">\r\n    <g id=\"xtick_1\">\r\n     <g id=\"line2d_1\">\r\n      <defs>\r\n       <path d=\"M 0 0 \r\nL 0 3.5 \r\n\" id=\"m8dc8611b3f\" style=\"stroke:#000000;stroke-width:0.8;\"/>\r\n      </defs>\r\n      <g>\r\n       <use style=\"stroke:#000000;stroke-width:0.8;\" x=\"45.321307\" xlink:href=\"#m8dc8611b3f\" y=\"224.64\"/>\r\n      </g>\r\n     </g>\r\n     <g id=\"text_1\">\r\n      <!-- 0 -->\r\n      <g transform=\"translate(42.140057 239.238437)scale(0.1 -0.1)\">\r\n       <defs>\r\n        <path d=\"M 2034 4250 \r\nQ 1547 4250 1301 3770 \r\nQ 1056 3291 1056 2328 \r\nQ 1056 1369 1301 889 \r\nQ 1547 409 2034 409 \r\nQ 2525 409 2770 889 \r\nQ 3016 1369 3016 2328 \r\nQ 3016 3291 2770 3770 \r\nQ 2525 4250 2034 4250 \r\nz\r\nM 2034 4750 \r\nQ 2819 4750 3233 4129 \r\nQ 3647 3509 3647 2328 \r\nQ 3647 1150 3233 529 \r\nQ 2819 -91 2034 -91 \r\nQ 1250 -91 836 529 \r\nQ 422 1150 422 2328 \r\nQ 422 3509 836 4129 \r\nQ 1250 4750 2034 4750 \r\nz\r\n\" id=\"DejaVuSans-30\" transform=\"scale(0.015625)\"/>\r\n       </defs>\r\n       <use xlink:href=\"#DejaVuSans-30\"/>\r\n      </g>\r\n     </g>\r\n    </g>\r\n    <g id=\"xtick_2\">\r\n     <g id=\"line2d_2\">\r\n      <g>\r\n       <use style=\"stroke:#000000;stroke-width:0.8;\" x=\"106.80891\" xlink:href=\"#m8dc8611b3f\" y=\"224.64\"/>\r\n      </g>\r\n     </g>\r\n     <g id=\"text_2\">\r\n      <!-- 20 -->\r\n      <g transform=\"translate(100.44641 239.238437)scale(0.1 -0.1)\">\r\n       <defs>\r\n        <path d=\"M 1228 531 \r\nL 3431 531 \r\nL 3431 0 \r\nL 469 0 \r\nL 469 531 \r\nQ 828 903 1448 1529 \r\nQ 2069 2156 2228 2338 \r\nQ 2531 2678 2651 2914 \r\nQ 2772 3150 2772 3378 \r\nQ 2772 3750 2511 3984 \r\nQ 2250 4219 1831 4219 \r\nQ 1534 4219 1204 4116 \r\nQ 875 4013 500 3803 \r\nL 500 4441 \r\nQ 881 4594 1212 4672 \r\nQ 1544 4750 1819 4750 \r\nQ 2544 4750 2975 4387 \r\nQ 3406 4025 3406 3419 \r\nQ 3406 3131 3298 2873 \r\nQ 3191 2616 2906 2266 \r\nQ 2828 2175 2409 1742 \r\nQ 1991 1309 1228 531 \r\nz\r\n\" id=\"DejaVuSans-32\" transform=\"scale(0.015625)\"/>\r\n       </defs>\r\n       <use xlink:href=\"#DejaVuSans-32\"/>\r\n       <use x=\"63.623047\" xlink:href=\"#DejaVuSans-30\"/>\r\n      </g>\r\n     </g>\r\n    </g>\r\n    <g id=\"xtick_3\">\r\n     <g id=\"line2d_3\">\r\n      <g>\r\n       <use style=\"stroke:#000000;stroke-width:0.8;\" x=\"168.296513\" xlink:href=\"#m8dc8611b3f\" y=\"224.64\"/>\r\n      </g>\r\n     </g>\r\n     <g id=\"text_3\">\r\n      <!-- 40 -->\r\n      <g transform=\"translate(161.934013 239.238437)scale(0.1 -0.1)\">\r\n       <defs>\r\n        <path d=\"M 2419 4116 \r\nL 825 1625 \r\nL 2419 1625 \r\nL 2419 4116 \r\nz\r\nM 2253 4666 \r\nL 3047 4666 \r\nL 3047 1625 \r\nL 3713 1625 \r\nL 3713 1100 \r\nL 3047 1100 \r\nL 3047 0 \r\nL 2419 0 \r\nL 2419 1100 \r\nL 313 1100 \r\nL 313 1709 \r\nL 2253 4666 \r\nz\r\n\" id=\"DejaVuSans-34\" transform=\"scale(0.015625)\"/>\r\n       </defs>\r\n       <use xlink:href=\"#DejaVuSans-34\"/>\r\n       <use x=\"63.623047\" xlink:href=\"#DejaVuSans-30\"/>\r\n      </g>\r\n     </g>\r\n    </g>\r\n    <g id=\"xtick_4\">\r\n     <g id=\"line2d_4\">\r\n      <g>\r\n       <use style=\"stroke:#000000;stroke-width:0.8;\" x=\"229.784117\" xlink:href=\"#m8dc8611b3f\" y=\"224.64\"/>\r\n      </g>\r\n     </g>\r\n     <g id=\"text_4\">\r\n      <!-- 60 -->\r\n      <g transform=\"translate(223.421617 239.238437)scale(0.1 -0.1)\">\r\n       <defs>\r\n        <path d=\"M 2113 2584 \r\nQ 1688 2584 1439 2293 \r\nQ 1191 2003 1191 1497 \r\nQ 1191 994 1439 701 \r\nQ 1688 409 2113 409 \r\nQ 2538 409 2786 701 \r\nQ 3034 994 3034 1497 \r\nQ 3034 2003 2786 2293 \r\nQ 2538 2584 2113 2584 \r\nz\r\nM 3366 4563 \r\nL 3366 3988 \r\nQ 3128 4100 2886 4159 \r\nQ 2644 4219 2406 4219 \r\nQ 1781 4219 1451 3797 \r\nQ 1122 3375 1075 2522 \r\nQ 1259 2794 1537 2939 \r\nQ 1816 3084 2150 3084 \r\nQ 2853 3084 3261 2657 \r\nQ 3669 2231 3669 1497 \r\nQ 3669 778 3244 343 \r\nQ 2819 -91 2113 -91 \r\nQ 1303 -91 875 529 \r\nQ 447 1150 447 2328 \r\nQ 447 3434 972 4092 \r\nQ 1497 4750 2381 4750 \r\nQ 2619 4750 2861 4703 \r\nQ 3103 4656 3366 4563 \r\nz\r\n\" id=\"DejaVuSans-36\" transform=\"scale(0.015625)\"/>\r\n       </defs>\r\n       <use xlink:href=\"#DejaVuSans-36\"/>\r\n       <use x=\"63.623047\" xlink:href=\"#DejaVuSans-30\"/>\r\n      </g>\r\n     </g>\r\n    </g>\r\n    <g id=\"xtick_5\">\r\n     <g id=\"line2d_5\">\r\n      <g>\r\n       <use style=\"stroke:#000000;stroke-width:0.8;\" x=\"291.27172\" xlink:href=\"#m8dc8611b3f\" y=\"224.64\"/>\r\n      </g>\r\n     </g>\r\n     <g id=\"text_5\">\r\n      <!-- 80 -->\r\n      <g transform=\"translate(284.90922 239.238437)scale(0.1 -0.1)\">\r\n       <defs>\r\n        <path d=\"M 2034 2216 \r\nQ 1584 2216 1326 1975 \r\nQ 1069 1734 1069 1313 \r\nQ 1069 891 1326 650 \r\nQ 1584 409 2034 409 \r\nQ 2484 409 2743 651 \r\nQ 3003 894 3003 1313 \r\nQ 3003 1734 2745 1975 \r\nQ 2488 2216 2034 2216 \r\nz\r\nM 1403 2484 \r\nQ 997 2584 770 2862 \r\nQ 544 3141 544 3541 \r\nQ 544 4100 942 4425 \r\nQ 1341 4750 2034 4750 \r\nQ 2731 4750 3128 4425 \r\nQ 3525 4100 3525 3541 \r\nQ 3525 3141 3298 2862 \r\nQ 3072 2584 2669 2484 \r\nQ 3125 2378 3379 2068 \r\nQ 3634 1759 3634 1313 \r\nQ 3634 634 3220 271 \r\nQ 2806 -91 2034 -91 \r\nQ 1263 -91 848 271 \r\nQ 434 634 434 1313 \r\nQ 434 1759 690 2068 \r\nQ 947 2378 1403 2484 \r\nz\r\nM 1172 3481 \r\nQ 1172 3119 1398 2916 \r\nQ 1625 2713 2034 2713 \r\nQ 2441 2713 2670 2916 \r\nQ 2900 3119 2900 3481 \r\nQ 2900 3844 2670 4047 \r\nQ 2441 4250 2034 4250 \r\nQ 1625 4250 1398 4047 \r\nQ 1172 3844 1172 3481 \r\nz\r\n\" id=\"DejaVuSans-38\" transform=\"scale(0.015625)\"/>\r\n       </defs>\r\n       <use xlink:href=\"#DejaVuSans-38\"/>\r\n       <use x=\"63.623047\" xlink:href=\"#DejaVuSans-30\"/>\r\n      </g>\r\n     </g>\r\n    </g>\r\n    <g id=\"xtick_6\">\r\n     <g id=\"line2d_6\">\r\n      <g>\r\n       <use style=\"stroke:#000000;stroke-width:0.8;\" x=\"352.759323\" xlink:href=\"#m8dc8611b3f\" y=\"224.64\"/>\r\n      </g>\r\n     </g>\r\n     <g id=\"text_6\">\r\n      <!-- 100 -->\r\n      <g transform=\"translate(343.215573 239.238437)scale(0.1 -0.1)\">\r\n       <defs>\r\n        <path d=\"M 794 531 \r\nL 1825 531 \r\nL 1825 4091 \r\nL 703 3866 \r\nL 703 4441 \r\nL 1819 4666 \r\nL 2450 4666 \r\nL 2450 531 \r\nL 3481 531 \r\nL 3481 0 \r\nL 794 0 \r\nL 794 531 \r\nz\r\n\" id=\"DejaVuSans-31\" transform=\"scale(0.015625)\"/>\r\n       </defs>\r\n       <use xlink:href=\"#DejaVuSans-31\"/>\r\n       <use x=\"63.623047\" xlink:href=\"#DejaVuSans-30\"/>\r\n       <use x=\"127.246094\" xlink:href=\"#DejaVuSans-30\"/>\r\n      </g>\r\n     </g>\r\n    </g>\r\n   </g>\r\n   <g id=\"matplotlib.axis_2\">\r\n    <g id=\"ytick_1\">\r\n     <g id=\"line2d_7\">\r\n      <defs>\r\n       <path d=\"M 0 0 \r\nL -3.5 0 \r\n\" id=\"m1358c20200\" style=\"stroke:#000000;stroke-width:0.8;\"/>\r\n      </defs>\r\n      <g>\r\n       <use style=\"stroke:#000000;stroke-width:0.8;\" x=\"30.103125\" xlink:href=\"#m1358c20200\" y=\"218.575059\"/>\r\n      </g>\r\n     </g>\r\n     <g id=\"text_7\">\r\n      <!-- 0.0 -->\r\n      <g transform=\"translate(7.2 222.374278)scale(0.1 -0.1)\">\r\n       <defs>\r\n        <path d=\"M 684 794 \r\nL 1344 794 \r\nL 1344 0 \r\nL 684 0 \r\nL 684 794 \r\nz\r\n\" id=\"DejaVuSans-2e\" transform=\"scale(0.015625)\"/>\r\n       </defs>\r\n       <use xlink:href=\"#DejaVuSans-30\"/>\r\n       <use x=\"63.623047\" xlink:href=\"#DejaVuSans-2e\"/>\r\n       <use x=\"95.410156\" xlink:href=\"#DejaVuSans-30\"/>\r\n      </g>\r\n     </g>\r\n    </g>\r\n    <g id=\"ytick_2\">\r\n     <g id=\"line2d_8\">\r\n      <g>\r\n       <use style=\"stroke:#000000;stroke-width:0.8;\" x=\"30.103125\" xlink:href=\"#m1358c20200\" y=\"188.163025\"/>\r\n      </g>\r\n     </g>\r\n     <g id=\"text_8\">\r\n      <!-- 0.1 -->\r\n      <g transform=\"translate(7.2 191.962244)scale(0.1 -0.1)\">\r\n       <use xlink:href=\"#DejaVuSans-30\"/>\r\n       <use x=\"63.623047\" xlink:href=\"#DejaVuSans-2e\"/>\r\n       <use x=\"95.410156\" xlink:href=\"#DejaVuSans-31\"/>\r\n      </g>\r\n     </g>\r\n    </g>\r\n    <g id=\"ytick_3\">\r\n     <g id=\"line2d_9\">\r\n      <g>\r\n       <use style=\"stroke:#000000;stroke-width:0.8;\" x=\"30.103125\" xlink:href=\"#m1358c20200\" y=\"157.750992\"/>\r\n      </g>\r\n     </g>\r\n     <g id=\"text_9\">\r\n      <!-- 0.2 -->\r\n      <g transform=\"translate(7.2 161.55021)scale(0.1 -0.1)\">\r\n       <use xlink:href=\"#DejaVuSans-30\"/>\r\n       <use x=\"63.623047\" xlink:href=\"#DejaVuSans-2e\"/>\r\n       <use x=\"95.410156\" xlink:href=\"#DejaVuSans-32\"/>\r\n      </g>\r\n     </g>\r\n    </g>\r\n    <g id=\"ytick_4\">\r\n     <g id=\"line2d_10\">\r\n      <g>\r\n       <use style=\"stroke:#000000;stroke-width:0.8;\" x=\"30.103125\" xlink:href=\"#m1358c20200\" y=\"127.338958\"/>\r\n      </g>\r\n     </g>\r\n     <g id=\"text_10\">\r\n      <!-- 0.3 -->\r\n      <g transform=\"translate(7.2 131.138177)scale(0.1 -0.1)\">\r\n       <defs>\r\n        <path d=\"M 2597 2516 \r\nQ 3050 2419 3304 2112 \r\nQ 3559 1806 3559 1356 \r\nQ 3559 666 3084 287 \r\nQ 2609 -91 1734 -91 \r\nQ 1441 -91 1130 -33 \r\nQ 819 25 488 141 \r\nL 488 750 \r\nQ 750 597 1062 519 \r\nQ 1375 441 1716 441 \r\nQ 2309 441 2620 675 \r\nQ 2931 909 2931 1356 \r\nQ 2931 1769 2642 2001 \r\nQ 2353 2234 1838 2234 \r\nL 1294 2234 \r\nL 1294 2753 \r\nL 1863 2753 \r\nQ 2328 2753 2575 2939 \r\nQ 2822 3125 2822 3475 \r\nQ 2822 3834 2567 4026 \r\nQ 2313 4219 1838 4219 \r\nQ 1578 4219 1281 4162 \r\nQ 984 4106 628 3988 \r\nL 628 4550 \r\nQ 988 4650 1302 4700 \r\nQ 1616 4750 1894 4750 \r\nQ 2613 4750 3031 4423 \r\nQ 3450 4097 3450 3541 \r\nQ 3450 3153 3228 2886 \r\nQ 3006 2619 2597 2516 \r\nz\r\n\" id=\"DejaVuSans-33\" transform=\"scale(0.015625)\"/>\r\n       </defs>\r\n       <use xlink:href=\"#DejaVuSans-30\"/>\r\n       <use x=\"63.623047\" xlink:href=\"#DejaVuSans-2e\"/>\r\n       <use x=\"95.410156\" xlink:href=\"#DejaVuSans-33\"/>\r\n      </g>\r\n     </g>\r\n    </g>\r\n    <g id=\"ytick_5\">\r\n     <g id=\"line2d_11\">\r\n      <g>\r\n       <use style=\"stroke:#000000;stroke-width:0.8;\" x=\"30.103125\" xlink:href=\"#m1358c20200\" y=\"96.926924\"/>\r\n      </g>\r\n     </g>\r\n     <g id=\"text_11\">\r\n      <!-- 0.4 -->\r\n      <g transform=\"translate(7.2 100.726143)scale(0.1 -0.1)\">\r\n       <use xlink:href=\"#DejaVuSans-30\"/>\r\n       <use x=\"63.623047\" xlink:href=\"#DejaVuSans-2e\"/>\r\n       <use x=\"95.410156\" xlink:href=\"#DejaVuSans-34\"/>\r\n      </g>\r\n     </g>\r\n    </g>\r\n    <g id=\"ytick_6\">\r\n     <g id=\"line2d_12\">\r\n      <g>\r\n       <use style=\"stroke:#000000;stroke-width:0.8;\" x=\"30.103125\" xlink:href=\"#m1358c20200\" y=\"66.51489\"/>\r\n      </g>\r\n     </g>\r\n     <g id=\"text_12\">\r\n      <!-- 0.5 -->\r\n      <g transform=\"translate(7.2 70.314109)scale(0.1 -0.1)\">\r\n       <defs>\r\n        <path d=\"M 691 4666 \r\nL 3169 4666 \r\nL 3169 4134 \r\nL 1269 4134 \r\nL 1269 2991 \r\nQ 1406 3038 1543 3061 \r\nQ 1681 3084 1819 3084 \r\nQ 2600 3084 3056 2656 \r\nQ 3513 2228 3513 1497 \r\nQ 3513 744 3044 326 \r\nQ 2575 -91 1722 -91 \r\nQ 1428 -91 1123 -41 \r\nQ 819 9 494 109 \r\nL 494 744 \r\nQ 775 591 1075 516 \r\nQ 1375 441 1709 441 \r\nQ 2250 441 2565 725 \r\nQ 2881 1009 2881 1497 \r\nQ 2881 1984 2565 2268 \r\nQ 2250 2553 1709 2553 \r\nQ 1456 2553 1204 2497 \r\nQ 953 2441 691 2322 \r\nL 691 4666 \r\nz\r\n\" id=\"DejaVuSans-35\" transform=\"scale(0.015625)\"/>\r\n       </defs>\r\n       <use xlink:href=\"#DejaVuSans-30\"/>\r\n       <use x=\"63.623047\" xlink:href=\"#DejaVuSans-2e\"/>\r\n       <use x=\"95.410156\" xlink:href=\"#DejaVuSans-35\"/>\r\n      </g>\r\n     </g>\r\n    </g>\r\n    <g id=\"ytick_7\">\r\n     <g id=\"line2d_13\">\r\n      <g>\r\n       <use style=\"stroke:#000000;stroke-width:0.8;\" x=\"30.103125\" xlink:href=\"#m1358c20200\" y=\"36.102857\"/>\r\n      </g>\r\n     </g>\r\n     <g id=\"text_13\">\r\n      <!-- 0.6 -->\r\n      <g transform=\"translate(7.2 39.902075)scale(0.1 -0.1)\">\r\n       <use xlink:href=\"#DejaVuSans-30\"/>\r\n       <use x=\"63.623047\" xlink:href=\"#DejaVuSans-2e\"/>\r\n       <use x=\"95.410156\" xlink:href=\"#DejaVuSans-36\"/>\r\n      </g>\r\n     </g>\r\n    </g>\r\n   </g>\r\n   <g id=\"line2d_14\">\r\n    <path clip-path=\"url(#p121169c622)\" d=\"M 45.321307 17.083636 \r\nL 48.395687 96.607461 \r\nL 51.470067 113.809426 \r\nL 54.544447 125.481328 \r\nL 57.618827 134.195939 \r\nL 60.693208 141.02461 \r\nL 63.767588 146.455668 \r\nL 66.841968 150.830516 \r\nL 69.916348 154.62588 \r\nL 72.990728 158.23248 \r\nL 76.065108 162.300696 \r\nL 79.139489 164.82433 \r\nL 82.213869 168.440419 \r\nL 85.288249 171.426441 \r\nL 88.362629 173.894326 \r\nL 91.437009 176.314863 \r\nL 94.511389 178.992581 \r\nL 97.58577 181.62553 \r\nL 100.66015 184.101459 \r\nL 103.73453 185.816804 \r\nL 106.80891 188.372627 \r\nL 109.88329 189.894999 \r\nL 112.95767 191.411915 \r\nL 116.032051 192.229576 \r\nL 119.106431 195.233587 \r\nL 122.180811 195.608795 \r\nL 125.255191 197.136968 \r\nL 128.329571 198.750836 \r\nL 131.403951 199.007978 \r\nL 134.478332 202.143876 \r\nL 137.552712 201.694093 \r\nL 140.627092 202.85411 \r\nL 143.701472 203.817269 \r\nL 146.775852 203.806658 \r\nL 149.850232 204.442763 \r\nL 152.924613 205.664625 \r\nL 155.998993 205.589157 \r\nL 159.073373 206.93485 \r\nL 162.147753 206.286959 \r\nL 165.222133 208.112519 \r\nL 168.296513 208.104731 \r\nL 171.370894 207.747138 \r\nL 174.445274 209.354162 \r\nL 177.519654 209.287242 \r\nL 180.594034 208.442354 \r\nL 183.668414 209.989346 \r\nL 186.742794 209.972057 \r\nL 189.817175 210.320251 \r\nL 192.891555 209.597979 \r\nL 195.965935 210.689847 \r\nL 199.040315 211.121199 \r\nL 202.114695 210.932262 \r\nL 205.189075 210.983566 \r\nL 208.263456 211.668171 \r\nL 211.337836 211.611385 \r\nL 214.412216 210.86746 \r\nL 217.486596 211.964406 \r\nL 220.560976 211.819257 \r\nL 223.635356 212.197358 \r\nL 226.709737 212.481323 \r\nL 229.784117 212.452637 \r\nL 232.858497 212.576203 \r\nL 235.932877 212.696401 \r\nL 239.007257 212.324117 \r\nL 242.081637 213.046884 \r\nL 245.156018 212.154384 \r\nL 248.230398 212.962146 \r\nL 251.304778 212.980901 \r\nL 254.379158 212.200114 \r\nL 257.453538 213.1549 \r\nL 260.527918 212.748751 \r\nL 263.602299 213.603918 \r\nL 266.676679 213.842489 \r\nL 269.751059 213.179692 \r\nL 272.825439 213.34525 \r\nL 275.899819 214.235639 \r\nL 278.974199 213.580363 \r\nL 282.04858 212.926947 \r\nL 285.12296 214.276477 \r\nL 288.19734 214.487133 \r\nL 291.27172 213.911025 \r\nL 294.3461 213.619513 \r\nL 297.42048 213.482457 \r\nL 300.494861 213.695692 \r\nL 303.569241 214.168181 \r\nL 306.643621 214.179449 \r\nL 309.718001 214.669463 \r\nL 312.792381 214.585563 \r\nL 315.866761 214.583299 \r\nL 318.941142 212.742809 \r\nL 322.015522 214.617082 \r\nL 325.089902 214.436892 \r\nL 328.164282 214.756364 \r\nL 331.238662 214.414842 \r\nL 334.313042 214.552665 \r\nL 337.387423 214.218703 \r\nL 340.461803 214.219094 \r\nL 343.536183 214.228594 \r\nL 346.610563 214.09866 \r\nL 349.684943 213.90897 \r\n\" style=\"fill:none;stroke:#008000;stroke-linecap:square;stroke-width:1.5;\"/>\r\n   </g>\r\n   <g id=\"line2d_15\">\r\n    <path clip-path=\"url(#p121169c622)\" d=\"M 45.321307 94.867996 \r\nL 48.395687 113.977744 \r\nL 51.470067 127.114279 \r\nL 54.544447 132.653043 \r\nL 57.618827 139.413067 \r\nL 60.693208 142.168867 \r\nL 63.767588 142.527265 \r\nL 66.841968 145.84753 \r\nL 69.916348 150.456801 \r\nL 72.990728 151.054701 \r\nL 76.065108 151.105489 \r\nL 79.139489 153.095691 \r\nL 82.213869 153.26971 \r\nL 85.288249 151.957412 \r\nL 88.362629 150.262439 \r\nL 91.437009 153.622815 \r\nL 94.511389 151.27281 \r\nL 97.58577 153.571801 \r\nL 100.66015 153.615183 \r\nL 103.73453 152.457182 \r\nL 106.80891 151.903089 \r\nL 109.88329 145.471318 \r\nL 112.95767 148.621435 \r\nL 116.032051 148.522149 \r\nL 119.106431 145.999253 \r\nL 122.180811 145.108783 \r\nL 125.255191 145.629952 \r\nL 128.329571 142.856555 \r\nL 131.403951 143.64753 \r\nL 134.478332 139.04847 \r\nL 137.552712 141.949222 \r\nL 140.627092 138.659401 \r\nL 143.701472 136.493489 \r\nL 146.775852 137.541999 \r\nL 149.850232 135.217132 \r\nL 152.924613 132.43387 \r\nL 155.998993 132.99548 \r\nL 159.073373 124.867322 \r\nL 162.147753 134.714362 \r\nL 165.222133 130.997895 \r\nL 168.296513 129.354013 \r\nL 171.370894 123.8917 \r\nL 174.445274 125.617054 \r\nL 177.519654 121.564594 \r\nL 180.594034 120.979682 \r\nL 183.668414 120.172551 \r\nL 186.742794 119.026952 \r\nL 189.817175 124.022722 \r\nL 192.891555 123.877498 \r\nL 195.965935 121.378793 \r\nL 199.040315 117.396983 \r\nL 202.114695 119.228343 \r\nL 205.189075 111.479392 \r\nL 208.263456 110.780425 \r\nL 211.337836 112.295605 \r\nL 214.412216 112.24194 \r\nL 217.486596 112.639619 \r\nL 220.560976 115.075822 \r\nL 223.635356 111.74827 \r\nL 226.709737 108.793735 \r\nL 229.784117 105.154579 \r\nL 232.858497 107.656747 \r\nL 235.932877 108.207834 \r\nL 239.007257 108.076359 \r\nL 242.081637 107.151539 \r\nL 245.156018 106.22767 \r\nL 248.230398 97.913012 \r\nL 251.304778 105.70293 \r\nL 254.379158 105.800997 \r\nL 257.453538 106.465469 \r\nL 260.527918 105.137196 \r\nL 263.602299 106.749219 \r\nL 266.676679 103.86237 \r\nL 269.751059 105.440206 \r\nL 272.825439 103.874715 \r\nL 275.899819 100.791061 \r\nL 278.974199 101.22135 \r\nL 282.04858 97.68386 \r\nL 285.12296 98.89931 \r\nL 288.19734 99.149689 \r\nL 291.27172 99.556831 \r\nL 294.3461 103.178394 \r\nL 297.42048 97.099845 \r\nL 300.494861 95.283303 \r\nL 303.569241 101.508191 \r\nL 306.643621 97.504167 \r\nL 309.718001 96.44343 \r\nL 312.792381 97.053938 \r\nL 315.866761 96.572576 \r\nL 318.941142 99.599946 \r\nL 322.015522 95.417126 \r\nL 325.089902 96.640217 \r\nL 328.164282 89.663702 \r\nL 331.238662 92.069498 \r\nL 334.313042 90.426966 \r\nL 337.387423 96.206076 \r\nL 340.461803 92.190713 \r\nL 343.536183 93.863226 \r\nL 346.610563 91.438017 \r\nL 349.684943 90.548245 \r\n\" style=\"fill:none;stroke:#ff0000;stroke-linecap:square;stroke-width:1.5;\"/>\r\n   </g>\r\n   <g id=\"patch_3\">\r\n    <path d=\"M 30.103125 224.64 \r\nL 30.103125 7.2 \r\n\" style=\"fill:none;stroke:#000000;stroke-linecap:square;stroke-linejoin:miter;stroke-width:0.8;\"/>\r\n   </g>\r\n   <g id=\"patch_4\">\r\n    <path d=\"M 364.903125 224.64 \r\nL 364.903125 7.2 \r\n\" style=\"fill:none;stroke:#000000;stroke-linecap:square;stroke-linejoin:miter;stroke-width:0.8;\"/>\r\n   </g>\r\n   <g id=\"patch_5\">\r\n    <path d=\"M 30.103125 224.64 \r\nL 364.903125 224.64 \r\n\" style=\"fill:none;stroke:#000000;stroke-linecap:square;stroke-linejoin:miter;stroke-width:0.8;\"/>\r\n   </g>\r\n   <g id=\"patch_6\">\r\n    <path d=\"M 30.103125 7.2 \r\nL 364.903125 7.2 \r\n\" style=\"fill:none;stroke:#000000;stroke-linecap:square;stroke-linejoin:miter;stroke-width:0.8;\"/>\r\n   </g>\r\n  </g>\r\n </g>\r\n <defs>\r\n  <clipPath id=\"p121169c622\">\r\n   <rect height=\"217.44\" width=\"334.8\" x=\"30.103125\" y=\"7.2\"/>\r\n  </clipPath>\r\n </defs>\r\n</svg>\r\n",
            "image/png": "[encoded data removed]"
          },
          "metadata": {
            "tags": [],
            "needs_background": "light"
          }
        }
      ]
    },
    {
      "cell_type": "code",
      "metadata": {
        "id": "K_of7hz0JoPa",
        "outputId": "ee825723-d459-4d9f-b576-4d9b5c7996c7"
      },
      "source": [
        "plt.figure(1)\n",
        "plt.plot(history['accuracy'],'g')\n",
        "plt.plot(history['val_accuracy'],'r')"
      ],
      "execution_count": null,
      "outputs": [
        {
          "output_type": "execute_result",
          "data": {
            "text/plain": [
              "[<matplotlib.lines.Line2D at 0x1ca80f555b0>]"
            ]
          },
          "metadata": {
            "tags": []
          },
          "execution_count": 28
        },
        {
          "output_type": "display_data",
          "data": {
            "text/plain": [
              "<Figure size 432x288 with 1 Axes>"
            ],
            "image/svg+xml": "<?xml version=\"1.0\" encoding=\"utf-8\" standalone=\"no\"?>\r\n<!DOCTYPE svg PUBLIC \"-//W3C//DTD SVG 1.1//EN\"\r\n  \"http://www.w3.org/Graphics/SVG/1.1/DTD/svg11.dtd\">\r\n<svg height=\"248.518125pt\" version=\"1.1\" viewBox=\"0 0 378.465625 248.518125\" width=\"378.465625pt\" xmlns=\"http://www.w3.org/2000/svg\" xmlns:xlink=\"http://www.w3.org/1999/xlink\">\r\n <metadata>\r\n  <rdf:RDF xmlns:cc=\"http://creativecommons.org/ns#\" xmlns:dc=\"http://purl.org/dc/elements/1.1/\" xmlns:rdf=\"http://www.w3.org/1999/02/22-rdf-syntax-ns#\">\r\n   <cc:Work>\r\n    <dc:type rdf:resource=\"http://purl.org/dc/dcmitype/StillImage\"/>\r\n    <dc:date>2021-05-10T02:58:07.237837</dc:date>\r\n    <dc:format>image/svg+xml</dc:format>\r\n    <dc:creator>\r\n     <cc:Agent>\r\n      <dc:title>Matplotlib v3.4.1, https://matplotlib.org/</dc:title>\r\n     </cc:Agent>\r\n    </dc:creator>\r\n   </cc:Work>\r\n  </rdf:RDF>\r\n </metadata>\r\n <defs>\r\n  <style type=\"text/css\">*{stroke-linecap:butt;stroke-linejoin:round;}</style>\r\n </defs>\r\n <g id=\"figure_1\">\r\n  <g id=\"patch_1\">\r\n   <path d=\"M 0 248.518125 \r\nL 378.465625 248.518125 \r\nL 378.465625 0 \r\nL 0 0 \r\nz\r\n\" style=\"fill:none;\"/>\r\n  </g>\r\n  <g id=\"axes_1\">\r\n   <g id=\"patch_2\">\r\n    <path d=\"M 36.465625 224.64 \r\nL 371.265625 224.64 \r\nL 371.265625 7.2 \r\nL 36.465625 7.2 \r\nz\r\n\" style=\"fill:#ffffff;\"/>\r\n   </g>\r\n   <g id=\"matplotlib.axis_1\">\r\n    <g id=\"xtick_1\">\r\n     <g id=\"line2d_1\">\r\n      <defs>\r\n       <path d=\"M 0 0 \r\nL 0 3.5 \r\n\" id=\"mddef15b249\" style=\"stroke:#000000;stroke-width:0.8;\"/>\r\n      </defs>\r\n      <g>\r\n       <use style=\"stroke:#000000;stroke-width:0.8;\" x=\"51.683807\" xlink:href=\"#mddef15b249\" y=\"224.64\"/>\r\n      </g>\r\n     </g>\r\n     <g id=\"text_1\">\r\n      <!-- 0 -->\r\n      <g transform=\"translate(48.502557 239.238438)scale(0.1 -0.1)\">\r\n       <defs>\r\n        <path d=\"M 2034 4250 \r\nQ 1547 4250 1301 3770 \r\nQ 1056 3291 1056 2328 \r\nQ 1056 1369 1301 889 \r\nQ 1547 409 2034 409 \r\nQ 2525 409 2770 889 \r\nQ 3016 1369 3016 2328 \r\nQ 3016 3291 2770 3770 \r\nQ 2525 4250 2034 4250 \r\nz\r\nM 2034 4750 \r\nQ 2819 4750 3233 4129 \r\nQ 3647 3509 3647 2328 \r\nQ 3647 1150 3233 529 \r\nQ 2819 -91 2034 -91 \r\nQ 1250 -91 836 529 \r\nQ 422 1150 422 2328 \r\nQ 422 3509 836 4129 \r\nQ 1250 4750 2034 4750 \r\nz\r\n\" id=\"DejaVuSans-30\" transform=\"scale(0.015625)\"/>\r\n       </defs>\r\n       <use xlink:href=\"#DejaVuSans-30\"/>\r\n      </g>\r\n     </g>\r\n    </g>\r\n    <g id=\"xtick_2\">\r\n     <g id=\"line2d_2\">\r\n      <g>\r\n       <use style=\"stroke:#000000;stroke-width:0.8;\" x=\"113.17141\" xlink:href=\"#mddef15b249\" y=\"224.64\"/>\r\n      </g>\r\n     </g>\r\n     <g id=\"text_2\">\r\n      <!-- 20 -->\r\n      <g transform=\"translate(106.80891 239.238438)scale(0.1 -0.1)\">\r\n       <defs>\r\n        <path d=\"M 1228 531 \r\nL 3431 531 \r\nL 3431 0 \r\nL 469 0 \r\nL 469 531 \r\nQ 828 903 1448 1529 \r\nQ 2069 2156 2228 2338 \r\nQ 2531 2678 2651 2914 \r\nQ 2772 3150 2772 3378 \r\nQ 2772 3750 2511 3984 \r\nQ 2250 4219 1831 4219 \r\nQ 1534 4219 1204 4116 \r\nQ 875 4013 500 3803 \r\nL 500 4441 \r\nQ 881 4594 1212 4672 \r\nQ 1544 4750 1819 4750 \r\nQ 2544 4750 2975 4387 \r\nQ 3406 4025 3406 3419 \r\nQ 3406 3131 3298 2873 \r\nQ 3191 2616 2906 2266 \r\nQ 2828 2175 2409 1742 \r\nQ 1991 1309 1228 531 \r\nz\r\n\" id=\"DejaVuSans-32\" transform=\"scale(0.015625)\"/>\r\n       </defs>\r\n       <use xlink:href=\"#DejaVuSans-32\"/>\r\n       <use x=\"63.623047\" xlink:href=\"#DejaVuSans-30\"/>\r\n      </g>\r\n     </g>\r\n    </g>\r\n    <g id=\"xtick_3\">\r\n     <g id=\"line2d_3\">\r\n      <g>\r\n       <use style=\"stroke:#000000;stroke-width:0.8;\" x=\"174.659013\" xlink:href=\"#mddef15b249\" y=\"224.64\"/>\r\n      </g>\r\n     </g>\r\n     <g id=\"text_3\">\r\n      <!-- 40 -->\r\n      <g transform=\"translate(168.296513 239.238438)scale(0.1 -0.1)\">\r\n       <defs>\r\n        <path d=\"M 2419 4116 \r\nL 825 1625 \r\nL 2419 1625 \r\nL 2419 4116 \r\nz\r\nM 2253 4666 \r\nL 3047 4666 \r\nL 3047 1625 \r\nL 3713 1625 \r\nL 3713 1100 \r\nL 3047 1100 \r\nL 3047 0 \r\nL 2419 0 \r\nL 2419 1100 \r\nL 313 1100 \r\nL 313 1709 \r\nL 2253 4666 \r\nz\r\n\" id=\"DejaVuSans-34\" transform=\"scale(0.015625)\"/>\r\n       </defs>\r\n       <use xlink:href=\"#DejaVuSans-34\"/>\r\n       <use x=\"63.623047\" xlink:href=\"#DejaVuSans-30\"/>\r\n      </g>\r\n     </g>\r\n    </g>\r\n    <g id=\"xtick_4\">\r\n     <g id=\"line2d_4\">\r\n      <g>\r\n       <use style=\"stroke:#000000;stroke-width:0.8;\" x=\"236.146617\" xlink:href=\"#mddef15b249\" y=\"224.64\"/>\r\n      </g>\r\n     </g>\r\n     <g id=\"text_4\">\r\n      <!-- 60 -->\r\n      <g transform=\"translate(229.784117 239.238438)scale(0.1 -0.1)\">\r\n       <defs>\r\n        <path d=\"M 2113 2584 \r\nQ 1688 2584 1439 2293 \r\nQ 1191 2003 1191 1497 \r\nQ 1191 994 1439 701 \r\nQ 1688 409 2113 409 \r\nQ 2538 409 2786 701 \r\nQ 3034 994 3034 1497 \r\nQ 3034 2003 2786 2293 \r\nQ 2538 2584 2113 2584 \r\nz\r\nM 3366 4563 \r\nL 3366 3988 \r\nQ 3128 4100 2886 4159 \r\nQ 2644 4219 2406 4219 \r\nQ 1781 4219 1451 3797 \r\nQ 1122 3375 1075 2522 \r\nQ 1259 2794 1537 2939 \r\nQ 1816 3084 2150 3084 \r\nQ 2853 3084 3261 2657 \r\nQ 3669 2231 3669 1497 \r\nQ 3669 778 3244 343 \r\nQ 2819 -91 2113 -91 \r\nQ 1303 -91 875 529 \r\nQ 447 1150 447 2328 \r\nQ 447 3434 972 4092 \r\nQ 1497 4750 2381 4750 \r\nQ 2619 4750 2861 4703 \r\nQ 3103 4656 3366 4563 \r\nz\r\n\" id=\"DejaVuSans-36\" transform=\"scale(0.015625)\"/>\r\n       </defs>\r\n       <use xlink:href=\"#DejaVuSans-36\"/>\r\n       <use x=\"63.623047\" xlink:href=\"#DejaVuSans-30\"/>\r\n      </g>\r\n     </g>\r\n    </g>\r\n    <g id=\"xtick_5\">\r\n     <g id=\"line2d_5\">\r\n      <g>\r\n       <use style=\"stroke:#000000;stroke-width:0.8;\" x=\"297.63422\" xlink:href=\"#mddef15b249\" y=\"224.64\"/>\r\n      </g>\r\n     </g>\r\n     <g id=\"text_5\">\r\n      <!-- 80 -->\r\n      <g transform=\"translate(291.27172 239.238438)scale(0.1 -0.1)\">\r\n       <defs>\r\n        <path d=\"M 2034 2216 \r\nQ 1584 2216 1326 1975 \r\nQ 1069 1734 1069 1313 \r\nQ 1069 891 1326 650 \r\nQ 1584 409 2034 409 \r\nQ 2484 409 2743 651 \r\nQ 3003 894 3003 1313 \r\nQ 3003 1734 2745 1975 \r\nQ 2488 2216 2034 2216 \r\nz\r\nM 1403 2484 \r\nQ 997 2584 770 2862 \r\nQ 544 3141 544 3541 \r\nQ 544 4100 942 4425 \r\nQ 1341 4750 2034 4750 \r\nQ 2731 4750 3128 4425 \r\nQ 3525 4100 3525 3541 \r\nQ 3525 3141 3298 2862 \r\nQ 3072 2584 2669 2484 \r\nQ 3125 2378 3379 2068 \r\nQ 3634 1759 3634 1313 \r\nQ 3634 634 3220 271 \r\nQ 2806 -91 2034 -91 \r\nQ 1263 -91 848 271 \r\nQ 434 634 434 1313 \r\nQ 434 1759 690 2068 \r\nQ 947 2378 1403 2484 \r\nz\r\nM 1172 3481 \r\nQ 1172 3119 1398 2916 \r\nQ 1625 2713 2034 2713 \r\nQ 2441 2713 2670 2916 \r\nQ 2900 3119 2900 3481 \r\nQ 2900 3844 2670 4047 \r\nQ 2441 4250 2034 4250 \r\nQ 1625 4250 1398 4047 \r\nQ 1172 3844 1172 3481 \r\nz\r\n\" id=\"DejaVuSans-38\" transform=\"scale(0.015625)\"/>\r\n       </defs>\r\n       <use xlink:href=\"#DejaVuSans-38\"/>\r\n       <use x=\"63.623047\" xlink:href=\"#DejaVuSans-30\"/>\r\n      </g>\r\n     </g>\r\n    </g>\r\n    <g id=\"xtick_6\">\r\n     <g id=\"line2d_6\">\r\n      <g>\r\n       <use style=\"stroke:#000000;stroke-width:0.8;\" x=\"359.121823\" xlink:href=\"#mddef15b249\" y=\"224.64\"/>\r\n      </g>\r\n     </g>\r\n     <g id=\"text_6\">\r\n      <!-- 100 -->\r\n      <g transform=\"translate(349.578073 239.238438)scale(0.1 -0.1)\">\r\n       <defs>\r\n        <path d=\"M 794 531 \r\nL 1825 531 \r\nL 1825 4091 \r\nL 703 3866 \r\nL 703 4441 \r\nL 1819 4666 \r\nL 2450 4666 \r\nL 2450 531 \r\nL 3481 531 \r\nL 3481 0 \r\nL 794 0 \r\nL 794 531 \r\nz\r\n\" id=\"DejaVuSans-31\" transform=\"scale(0.015625)\"/>\r\n       </defs>\r\n       <use xlink:href=\"#DejaVuSans-31\"/>\r\n       <use x=\"63.623047\" xlink:href=\"#DejaVuSans-30\"/>\r\n       <use x=\"127.246094\" xlink:href=\"#DejaVuSans-30\"/>\r\n      </g>\r\n     </g>\r\n    </g>\r\n   </g>\r\n   <g id=\"matplotlib.axis_2\">\r\n    <g id=\"ytick_1\">\r\n     <g id=\"line2d_7\">\r\n      <defs>\r\n       <path d=\"M 0 0 \r\nL -3.5 0 \r\n\" id=\"me586f5422d\" style=\"stroke:#000000;stroke-width:0.8;\"/>\r\n      </defs>\r\n      <g>\r\n       <use style=\"stroke:#000000;stroke-width:0.8;\" x=\"36.465625\" xlink:href=\"#me586f5422d\" y=\"183.198735\"/>\r\n      </g>\r\n     </g>\r\n     <g id=\"text_7\">\r\n      <!-- 0.80 -->\r\n      <g transform=\"translate(7.2 186.997954)scale(0.1 -0.1)\">\r\n       <defs>\r\n        <path d=\"M 684 794 \r\nL 1344 794 \r\nL 1344 0 \r\nL 684 0 \r\nL 684 794 \r\nz\r\n\" id=\"DejaVuSans-2e\" transform=\"scale(0.015625)\"/>\r\n       </defs>\r\n       <use xlink:href=\"#DejaVuSans-30\"/>\r\n       <use x=\"63.623047\" xlink:href=\"#DejaVuSans-2e\"/>\r\n       <use x=\"95.410156\" xlink:href=\"#DejaVuSans-38\"/>\r\n       <use x=\"159.033203\" xlink:href=\"#DejaVuSans-30\"/>\r\n      </g>\r\n     </g>\r\n    </g>\r\n    <g id=\"ytick_2\">\r\n     <g id=\"line2d_8\">\r\n      <g>\r\n       <use style=\"stroke:#000000;stroke-width:0.8;\" x=\"36.465625\" xlink:href=\"#me586f5422d\" y=\"140.768316\"/>\r\n      </g>\r\n     </g>\r\n     <g id=\"text_8\">\r\n      <!-- 0.85 -->\r\n      <g transform=\"translate(7.2 144.567535)scale(0.1 -0.1)\">\r\n       <defs>\r\n        <path d=\"M 691 4666 \r\nL 3169 4666 \r\nL 3169 4134 \r\nL 1269 4134 \r\nL 1269 2991 \r\nQ 1406 3038 1543 3061 \r\nQ 1681 3084 1819 3084 \r\nQ 2600 3084 3056 2656 \r\nQ 3513 2228 3513 1497 \r\nQ 3513 744 3044 326 \r\nQ 2575 -91 1722 -91 \r\nQ 1428 -91 1123 -41 \r\nQ 819 9 494 109 \r\nL 494 744 \r\nQ 775 591 1075 516 \r\nQ 1375 441 1709 441 \r\nQ 2250 441 2565 725 \r\nQ 2881 1009 2881 1497 \r\nQ 2881 1984 2565 2268 \r\nQ 2250 2553 1709 2553 \r\nQ 1456 2553 1204 2497 \r\nQ 953 2441 691 2322 \r\nL 691 4666 \r\nz\r\n\" id=\"DejaVuSans-35\" transform=\"scale(0.015625)\"/>\r\n       </defs>\r\n       <use xlink:href=\"#DejaVuSans-30\"/>\r\n       <use x=\"63.623047\" xlink:href=\"#DejaVuSans-2e\"/>\r\n       <use x=\"95.410156\" xlink:href=\"#DejaVuSans-38\"/>\r\n       <use x=\"159.033203\" xlink:href=\"#DejaVuSans-35\"/>\r\n      </g>\r\n     </g>\r\n    </g>\r\n    <g id=\"ytick_3\">\r\n     <g id=\"line2d_9\">\r\n      <g>\r\n       <use style=\"stroke:#000000;stroke-width:0.8;\" x=\"36.465625\" xlink:href=\"#me586f5422d\" y=\"98.337897\"/>\r\n      </g>\r\n     </g>\r\n     <g id=\"text_9\">\r\n      <!-- 0.90 -->\r\n      <g transform=\"translate(7.2 102.137116)scale(0.1 -0.1)\">\r\n       <defs>\r\n        <path d=\"M 703 97 \r\nL 703 672 \r\nQ 941 559 1184 500 \r\nQ 1428 441 1663 441 \r\nQ 2288 441 2617 861 \r\nQ 2947 1281 2994 2138 \r\nQ 2813 1869 2534 1725 \r\nQ 2256 1581 1919 1581 \r\nQ 1219 1581 811 2004 \r\nQ 403 2428 403 3163 \r\nQ 403 3881 828 4315 \r\nQ 1253 4750 1959 4750 \r\nQ 2769 4750 3195 4129 \r\nQ 3622 3509 3622 2328 \r\nQ 3622 1225 3098 567 \r\nQ 2575 -91 1691 -91 \r\nQ 1453 -91 1209 -44 \r\nQ 966 3 703 97 \r\nz\r\nM 1959 2075 \r\nQ 2384 2075 2632 2365 \r\nQ 2881 2656 2881 3163 \r\nQ 2881 3666 2632 3958 \r\nQ 2384 4250 1959 4250 \r\nQ 1534 4250 1286 3958 \r\nQ 1038 3666 1038 3163 \r\nQ 1038 2656 1286 2365 \r\nQ 1534 2075 1959 2075 \r\nz\r\n\" id=\"DejaVuSans-39\" transform=\"scale(0.015625)\"/>\r\n       </defs>\r\n       <use xlink:href=\"#DejaVuSans-30\"/>\r\n       <use x=\"63.623047\" xlink:href=\"#DejaVuSans-2e\"/>\r\n       <use x=\"95.410156\" xlink:href=\"#DejaVuSans-39\"/>\r\n       <use x=\"159.033203\" xlink:href=\"#DejaVuSans-30\"/>\r\n      </g>\r\n     </g>\r\n    </g>\r\n    <g id=\"ytick_4\">\r\n     <g id=\"line2d_10\">\r\n      <g>\r\n       <use style=\"stroke:#000000;stroke-width:0.8;\" x=\"36.465625\" xlink:href=\"#me586f5422d\" y=\"55.907478\"/>\r\n      </g>\r\n     </g>\r\n     <g id=\"text_10\">\r\n      <!-- 0.95 -->\r\n      <g transform=\"translate(7.2 59.706697)scale(0.1 -0.1)\">\r\n       <use xlink:href=\"#DejaVuSans-30\"/>\r\n       <use x=\"63.623047\" xlink:href=\"#DejaVuSans-2e\"/>\r\n       <use x=\"95.410156\" xlink:href=\"#DejaVuSans-39\"/>\r\n       <use x=\"159.033203\" xlink:href=\"#DejaVuSans-35\"/>\r\n      </g>\r\n     </g>\r\n    </g>\r\n    <g id=\"ytick_5\">\r\n     <g id=\"line2d_11\">\r\n      <g>\r\n       <use style=\"stroke:#000000;stroke-width:0.8;\" x=\"36.465625\" xlink:href=\"#me586f5422d\" y=\"13.477059\"/>\r\n      </g>\r\n     </g>\r\n     <g id=\"text_11\">\r\n      <!-- 1.00 -->\r\n      <g transform=\"translate(7.2 17.276278)scale(0.1 -0.1)\">\r\n       <use xlink:href=\"#DejaVuSans-31\"/>\r\n       <use x=\"63.623047\" xlink:href=\"#DejaVuSans-2e\"/>\r\n       <use x=\"95.410156\" xlink:href=\"#DejaVuSans-30\"/>\r\n       <use x=\"159.033203\" xlink:href=\"#DejaVuSans-30\"/>\r\n      </g>\r\n     </g>\r\n    </g>\r\n   </g>\r\n   <g id=\"line2d_12\">\r\n    <path clip-path=\"url(#pf0ff525f78)\" d=\"M 51.683807 214.756364 \r\nL 54.758187 137.250135 \r\nL 57.832567 118.987358 \r\nL 60.906947 108.751028 \r\nL 63.981327 100.229596 \r\nL 67.055708 93.299291 \r\nL 70.130088 87.624204 \r\nL 73.204468 84.406595 \r\nL 76.278848 79.527096 \r\nL 79.353228 76.680701 \r\nL 82.427608 71.642074 \r\nL 85.501989 70.157016 \r\nL 88.576369 65.34823 \r\nL 91.650749 62.165977 \r\nL 94.725129 60.380366 \r\nL 97.799509 58.117372 \r\nL 100.873889 54.793695 \r\nL 103.94827 52.884313 \r\nL 107.02265 48.765046 \r\nL 110.09703 47.173869 \r\nL 113.17141 45.494327 \r\nL 116.24579 43.143019 \r\nL 119.32017 40.7386 \r\nL 122.394551 40.650185 \r\nL 125.468931 37.361863 \r\nL 128.543311 37.414872 \r\nL 131.617691 36.212713 \r\nL 134.692071 34.285628 \r\nL 137.766451 33.649167 \r\nL 140.840832 30.50227 \r\nL 143.915212 30.166362 \r\nL 146.989592 28.787372 \r\nL 150.063972 28.875787 \r\nL 153.138352 28.964152 \r\nL 156.212732 27.868062 \r\nL 159.287113 26.259232 \r\nL 162.361493 27.143186 \r\nL 165.435873 25.180795 \r\nL 168.510253 26.029392 \r\nL 171.584633 24.208426 \r\nL 174.659013 23.907873 \r\nL 177.733394 24.455918 \r\nL 180.807774 22.493527 \r\nL 183.882154 23.182997 \r\nL 186.956534 23.713389 \r\nL 190.030914 21.87477 \r\nL 193.105294 22.104559 \r\nL 196.179675 21.521158 \r\nL 199.254055 22.458171 \r\nL 202.328435 21.008469 \r\nL 205.402815 20.920054 \r\nL 208.477195 20.95541 \r\nL 211.551575 20.460424 \r\nL 214.625956 20.637205 \r\nL 217.700336 20.425017 \r\nL 220.774716 21.096834 \r\nL 223.849096 19.611776 \r\nL 226.923476 20.089109 \r\nL 229.997856 19.823963 \r\nL 233.072237 19.682488 \r\nL 236.146617 19.912328 \r\nL 239.220997 19.452699 \r\nL 242.295377 19.328927 \r\nL 245.369757 20.018397 \r\nL 248.444137 18.975315 \r\nL 251.518518 19.965388 \r\nL 254.592898 19.187503 \r\nL 257.667278 19.169799 \r\nL 260.741658 19.664835 \r\nL 263.816038 18.621754 \r\nL 266.890418 19.099087 \r\nL 269.964799 18.321202 \r\nL 273.039179 18.285846 \r\nL 276.113559 18.515686 \r\nL 279.187939 18.462626 \r\nL 282.262319 17.702444 \r\nL 285.336699 18.285846 \r\nL 288.41108 18.798535 \r\nL 291.48546 17.684741 \r\nL 294.55984 17.543317 \r\nL 297.63422 18.144421 \r\nL 300.7086 18.19743 \r\nL 303.78298 18.515686 \r\nL 306.857361 18.020649 \r\nL 309.931741 17.525613 \r\nL 313.006121 17.525613 \r\nL 316.080501 17.543317 \r\nL 319.154881 17.295773 \r\nL 322.229261 17.366536 \r\nL 325.303642 18.869247 \r\nL 328.378022 17.419545 \r\nL 331.452402 17.702444 \r\nL 334.526782 17.083636 \r\nL 337.601162 17.614029 \r\nL 340.675542 17.118992 \r\nL 343.749923 17.702444 \r\nL 346.824303 17.720097 \r\nL 349.898683 17.702444 \r\nL 352.973063 17.7378 \r\nL 356.047443 17.826165 \r\n\" style=\"fill:none;stroke:#008000;stroke-linecap:square;stroke-width:1.5;\"/>\r\n   </g>\r\n   <g id=\"line2d_13\">\r\n    <path clip-path=\"url(#pf0ff525f78)\" d=\"M 51.683807 132.423645 \r\nL 54.758187 117.431588 \r\nL 57.832567 103.853877 \r\nL 60.906947 99.045091 \r\nL 63.981327 90.134691 \r\nL 67.055708 90.629727 \r\nL 70.130088 89.781079 \r\nL 73.204468 86.033077 \r\nL 76.278848 81.365716 \r\nL 79.353228 80.58783 \r\nL 82.427608 79.668521 \r\nL 85.501989 78.183462 \r\nL 88.576369 75.425483 \r\nL 91.650749 78.890635 \r\nL 94.725129 78.749211 \r\nL 97.799509 75.63762 \r\nL 100.873889 77.971275 \r\nL 103.94827 75.566907 \r\nL 107.02265 74.576885 \r\nL 110.09703 73.374676 \r\nL 113.17141 73.021064 \r\nL 116.24579 76.132656 \r\nL 119.32017 74.081849 \r\nL 122.394551 73.162539 \r\nL 125.468931 75.354771 \r\nL 128.543311 73.728237 \r\nL 131.617691 72.526079 \r\nL 134.692071 75.849756 \r\nL 137.766451 75.779044 \r\nL 140.840832 75.001159 \r\nL 143.915212 74.364698 \r\nL 146.989592 74.223274 \r\nL 150.063972 75.63762 \r\nL 153.138352 73.79895 \r\nL 156.212732 72.455366 \r\nL 159.287113 76.061944 \r\nL 162.361493 73.374676 \r\nL 165.435873 78.961348 \r\nL 168.510253 72.384604 \r\nL 171.584633 74.364698 \r\nL 174.659013 74.011137 \r\nL 177.733394 74.364698 \r\nL 180.807774 75.071871 \r\nL 183.882154 75.284058 \r\nL 186.956534 77.19339 \r\nL 190.030914 75.284058 \r\nL 193.105294 76.486217 \r\nL 196.179675 74.789022 \r\nL 199.254055 75.142583 \r\nL 202.328435 73.728237 \r\nL 205.402815 75.354771 \r\nL 208.477195 75.991231 \r\nL 211.551575 77.759138 \r\nL 214.625956 76.627641 \r\nL 217.700336 73.445388 \r\nL 220.774716 76.415505 \r\nL 223.849096 74.859734 \r\nL 226.923476 75.071871 \r\nL 229.997856 76.698404 \r\nL 233.072237 77.122678 \r\nL 236.146617 74.43541 \r\nL 239.220997 76.132656 \r\nL 242.295377 75.63762 \r\nL 245.369757 74.930447 \r\nL 248.444137 74.223274 \r\nL 251.518518 75.213295 \r\nL 254.592898 75.991231 \r\nL 257.667278 73.940425 \r\nL 260.741658 75.991231 \r\nL 263.816038 75.071871 \r\nL 266.890418 74.152561 \r\nL 269.964799 76.061944 \r\nL 273.039179 74.930447 \r\nL 276.113559 75.001159 \r\nL 279.187939 73.657525 \r\nL 282.262319 75.142583 \r\nL 285.336699 76.132656 \r\nL 288.41108 74.576885 \r\nL 291.48546 73.445388 \r\nL 294.55984 74.789022 \r\nL 297.63422 73.657525 \r\nL 300.7086 73.657525 \r\nL 303.78298 73.79895 \r\nL 306.857361 74.081849 \r\nL 309.931741 74.43541 \r\nL 313.006121 76.061944 \r\nL 316.080501 72.101755 \r\nL 319.154881 75.849756 \r\nL 322.229261 76.344792 \r\nL 325.303642 75.354771 \r\nL 328.378022 74.364698 \r\nL 331.452402 75.425483 \r\nL 334.526782 77.829851 \r\nL 337.601162 73.162539 \r\nL 340.675542 74.293986 \r\nL 343.749923 75.425483 \r\nL 346.824303 75.425483 \r\nL 349.898683 74.576885 \r\nL 352.973063 76.981253 \r\nL 356.047443 77.122678 \r\n\" style=\"fill:none;stroke:#ff0000;stroke-linecap:square;stroke-width:1.5;\"/>\r\n   </g>\r\n   <g id=\"patch_3\">\r\n    <path d=\"M 36.465625 224.64 \r\nL 36.465625 7.2 \r\n\" style=\"fill:none;stroke:#000000;stroke-linecap:square;stroke-linejoin:miter;stroke-width:0.8;\"/>\r\n   </g>\r\n   <g id=\"patch_4\">\r\n    <path d=\"M 371.265625 224.64 \r\nL 371.265625 7.2 \r\n\" style=\"fill:none;stroke:#000000;stroke-linecap:square;stroke-linejoin:miter;stroke-width:0.8;\"/>\r\n   </g>\r\n   <g id=\"patch_5\">\r\n    <path d=\"M 36.465625 224.64 \r\nL 371.265625 224.64 \r\n\" style=\"fill:none;stroke:#000000;stroke-linecap:square;stroke-linejoin:miter;stroke-width:0.8;\"/>\r\n   </g>\r\n   <g id=\"patch_6\">\r\n    <path d=\"M 36.465625 7.2 \r\nL 371.265625 7.2 \r\n\" style=\"fill:none;stroke:#000000;stroke-linecap:square;stroke-linejoin:miter;stroke-width:0.8;\"/>\r\n   </g>\r\n  </g>\r\n </g>\r\n <defs>\r\n  <clipPath id=\"pf0ff525f78\">\r\n   <rect height=\"217.44\" width=\"334.8\" x=\"36.465625\" y=\"7.2\"/>\r\n  </clipPath>\r\n </defs>\r\n</svg>\r\n",
            "image/png": "[encoded data removed]"
          },
          "metadata": {
            "tags": [],
            "needs_background": "light"
          }
        }
      ]
    },
    {
      "cell_type": "code",
      "metadata": {
        "id": "jO9nw79yJoPa"
      },
      "source": [
        "\n"
      ],
      "execution_count": null,
      "outputs": []
    }
  ]
}